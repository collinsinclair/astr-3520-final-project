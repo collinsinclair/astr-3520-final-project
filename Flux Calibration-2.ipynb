{
 "cells": [
  {
   "cell_type": "markdown",
   "metadata": {
    "pycharm": {
     "name": "#%% md\n"
    }
   },
   "source": [
    "# <center> Flux Calibration of Spectra</center> #"
   ]
  },
  {
   "cell_type": "markdown",
   "metadata": {
    "pycharm": {
     "name": "#%% md\n"
    }
   },
   "source": [
    "One reduction step for spectra that we might care about is converting the measured counts in the spectrum into a true **flux** measurement (i.e., ergs per second per square centimeter per angstrom). Often times we do not care about this: most relative measurements don't need an accurate flux measurement from the star. For example, if you are measuring radial velocities of a star to try and detect planets, you don't need to know how much energy is contained in the spectrum, only how the spectrum shifts in the dispersion direction. However, if we're concerned with the amount of energy contained in an emission line, for example, then we need to convert our spectrum to units of flux.\n",
    "\n",
    "There are a couple of ways to do this but we are going to focus on using *flux standards*, or stars with known spectral energy distributions, to derive a flux conversion factor as a function of airmass. If we wanted to be very rigorous with our observations, we would have observed our flux standard many times during the night covering a wide range of airmasses (secz = 1.0 - 2.0). However, given the time-constrained nature of our APO nights we were only able to observe flux standards at a couple of airmasses that were close to those of our objects. This means that our flux calibration will be approximate and likely accurate to ~20%.\n",
    "\n",
    "The steps to produce a flux-calibrated spectrum are as follows:\n",
    "\n",
    "* Produce 1-D spectra for your science objects and your flux standard, as well as a corresponding wavelength solution for each observation\n",
    "* Re-bin the observed standard onto the coarse wavelength grid of the known flux spectrum\n",
    "* For each airmass, divide the known flux spectrum by the observed and interpolated standard spectrum to produce a flux conversion factor at each airmass\n",
    "* Interpolate the smoothed flux conversion factor onto the observed wavelength grid\n",
    "* Multiply the observed science object spectrum by the flux conversion factor of the matching (or closest) airmass\n",
    "\n",
    "That's it! Once you have conversion factors for each observed airmass simply multiply your observed object spectrum by the conversion factor, which has units of counts/flux, and now you have a flux-calibrated spectrum. We will go through these steps in detail below and you will get to practice some plotting and spectrum analysis."
   ]
  },
  {
   "cell_type": "code",
   "execution_count": 2,
   "metadata": {
    "pycharm": {
     "name": "#%%\n"
    }
   },
   "outputs": [],
   "source": [
    "#### Set up your paths and import packages #### then run this cell --- SHIFT+ENTER\n",
    "\n",
    "import numpy as np\n",
    "import matplotlib.pyplot as plt\n",
    "from astropy.table import Table\n",
    "from astropy.io import fits\n",
    "from spectres import spectres\n",
    "from scipy.interpolate import interp1d\n",
    "from astropy.convolution import convolve, Gaussian1DKernel\n",
    "import pandas as pd\n",
    "\n",
    "% matplotlib inline\n",
    "\n",
    "datafolder = 'apo_files/'  # \".\"  # replace this with the path to where you are keeping your APO data"
   ]
  },
  {
   "cell_type": "code",
   "execution_count": 3,
   "metadata": {},
   "outputs": [
    {
     "data": {
      "text/plain": [
       "array([[1.14860e+03, 1.14980e+03, 1.15100e+03, ..., 9.19853e+03,\n",
       "        9.20053e+03, 9.20253e+03],\n",
       "       [7.36000e+00, 7.34300e+00, 7.35000e+00, ..., 1.05470e+01,\n",
       "        1.05470e+01, 1.05460e+01],\n",
       "       [1.20000e+00, 1.20000e+00, 1.20000e+00, ..., 2.00000e+00,\n",
       "        2.00000e+00, 2.00000e+00]])"
      ]
     },
     "execution_count": 3,
     "metadata": {},
     "output_type": "execute_result"
    }
   ],
   "source": [
    "sed=np.loadtxt('bd75d325.dat',unpack=True)\n",
    "sed"
   ]
  },
  {
   "cell_type": "code",
   "execution_count": 4,
   "metadata": {},
   "outputs": [
    {
     "data": {
      "text/html": [
       "<i>Table length=5106</i>\n",
       "<table id=\"table2118141468456\" class=\"table-striped table-bordered table-condensed\">\n",
       "<thead><tr><th>col1</th><th>col2</th><th>col3</th></tr></thead>\n",
       "<thead><tr><th>float64</th><th>float64</th><th>float64</th></tr></thead>\n",
       "<tr><td>1148.6</td><td>7.36</td><td>1.2</td></tr>\n",
       "<tr><td>1149.8</td><td>7.343</td><td>1.2</td></tr>\n",
       "<tr><td>1151.0</td><td>7.35</td><td>1.2</td></tr>\n",
       "<tr><td>1152.2</td><td>7.364</td><td>1.2</td></tr>\n",
       "<tr><td>1153.4</td><td>7.366</td><td>1.2</td></tr>\n",
       "<tr><td>1154.6</td><td>7.362</td><td>1.2</td></tr>\n",
       "<tr><td>1155.8</td><td>7.338</td><td>1.2</td></tr>\n",
       "<tr><td>1157.0</td><td>7.312</td><td>1.2</td></tr>\n",
       "<tr><td>1158.0</td><td>7.323</td><td>1.0</td></tr>\n",
       "<tr><td>1159.2</td><td>7.324</td><td>1.2</td></tr>\n",
       "<tr><td>...</td><td>...</td><td>...</td></tr>\n",
       "<tr><td>9184.53</td><td>10.549</td><td>2.0</td></tr>\n",
       "<tr><td>9186.53</td><td>10.549</td><td>2.0</td></tr>\n",
       "<tr><td>9188.53</td><td>10.55</td><td>2.0</td></tr>\n",
       "<tr><td>9190.53</td><td>10.552</td><td>2.0</td></tr>\n",
       "<tr><td>9192.53</td><td>10.551</td><td>2.0</td></tr>\n",
       "<tr><td>9194.53</td><td>10.55</td><td>2.0</td></tr>\n",
       "<tr><td>9196.53</td><td>10.547</td><td>2.0</td></tr>\n",
       "<tr><td>9198.53</td><td>10.547</td><td>2.0</td></tr>\n",
       "<tr><td>9200.53</td><td>10.547</td><td>2.0</td></tr>\n",
       "<tr><td>9202.53</td><td>10.546</td><td>2.0</td></tr>\n",
       "</table>"
      ],
      "text/plain": [
       "<Table length=5106>\n",
       "  col1    col2    col3 \n",
       "float64 float64 float64\n",
       "------- ------- -------\n",
       " 1148.6    7.36     1.2\n",
       " 1149.8   7.343     1.2\n",
       " 1151.0    7.35     1.2\n",
       " 1152.2   7.364     1.2\n",
       " 1153.4   7.366     1.2\n",
       " 1154.6   7.362     1.2\n",
       " 1155.8   7.338     1.2\n",
       " 1157.0   7.312     1.2\n",
       " 1158.0   7.323     1.0\n",
       " 1159.2   7.324     1.2\n",
       "    ...     ...     ...\n",
       "9184.53  10.549     2.0\n",
       "9186.53  10.549     2.0\n",
       "9188.53   10.55     2.0\n",
       "9190.53  10.552     2.0\n",
       "9192.53  10.551     2.0\n",
       "9194.53   10.55     2.0\n",
       "9196.53  10.547     2.0\n",
       "9198.53  10.547     2.0\n",
       "9200.53  10.547     2.0\n",
       "9202.53  10.546     2.0"
      ]
     },
     "execution_count": 4,
     "metadata": {},
     "output_type": "execute_result"
    }
   ],
   "source": [
    "bdata = Table.read('bd75d325.dat', format='ascii')\n",
    "bdata\n",
    "bdata"
   ]
  },
  {
   "cell_type": "markdown",
   "metadata": {
    "pycharm": {
     "name": "#%% md\n"
    }
   },
   "source": [
    "**-Although knowing the absolute flux level of an object can be important, we also care about the relative shape of the spectrum, i.e., how much flux at one wavelength compared to another.**"
   ]
  },
  {
   "cell_type": "markdown",
   "metadata": {
    "pycharm": {
     "name": "#%% md\n"
    }
   },
   "source": [
    "## <center> Creating a flux calibration vector </center> ##"
   ]
  },
  {
   "cell_type": "markdown",
   "metadata": {
    "pycharm": {
     "name": "#%% md\n"
    }
   },
   "source": [
    "We will start by looking at the DIS data for Team Spica's observed flux standard HD 93521 from 03-08-2022. Let's read in the reduced 1-D spectrum (which should be in your data folder) and plot it. "
   ]
  },
  {
   "cell_type": "code",
   "execution_count": 5,
   "metadata": {
    "pycharm": {
     "name": "#%%\n"
    }
   },
   "outputs": [
    {
     "data": {
      "image/png": "[encoded data removed]",
      "text/plain": [
       "<Figure size 432x288 with 1 Axes>"
      ]
     },
     "metadata": {
      "needs_background": "light"
     },
     "output_type": "display_data"
    }
   ],
   "source": [
    "#We can use astropy's Table package to quickly read in ASCII data based on the name of the column\n",
    "#in the file. In this case we have columns labeled Wave, Counts, and Airmass. We only need the\n",
    "#airmass once since it's the same for both red and blue chips (because they were observed simultaneously!)\n",
    "bdata = Table.read('bd75d325.dat', format='ascii')\n",
    "wb_data = bdata['col1']\n",
    "fb_data = bdata['col2']\n",
    "am_data = bdata['col3']  #a vector of repeated values, so we'll take the first entry\n",
    "am0024 = am_data[0]  #choosing an identifiable name to link the variable with the file 0024\n",
    "texp = 360 #secsonds\n",
    "texp0 = texp  #exposure time to normalize counts to counts/s\n",
    "#rdata = Table.read('fbd75d325.dat', format='ascii')\n",
    "#wr_data = rdata[0]\n",
    "#irev = np.argsort(wr_data)\n",
    "#fr_data = rdata[2]\n",
    "#fr_data = fr_data[irev]\n",
    "#wr_data = wr_data[irev]\n",
    "\n",
    "#Scale the observed spectra to counts per second\n",
    "#fr_data = fr_data / texp0\n",
    "fb_data = fb_data \n",
    "\n",
    "#Plot the observed spectrum\n",
    "pmax = np.amax(fb_data) * 1.05\n",
    "fig2f, ax2f = plt.subplots()\n",
    "ax2f.plot(wb_data, fb_data, color='blue')\n",
    "#ax2f.plot(wr_data, fr_data, color='red')\n",
    "#ax2f.set_ylim([0, pmax])\n",
    "#ax2f.set_xlim([4000, 7500])\n",
    "ax2f.set_title('BD75d325 - sec(z) = %.3f' % am0024)\n",
    "ax2f.set_xlabel('Wavelength ($\\mathregular{\\AA}$)')\n",
    "ax2f.set_ylabel('Counts $\\mathregular{pixel^{-1}\\ s^{-1}}$')\n",
    "ax2f.invert_yaxis();"
   ]
  },
  {
   "cell_type": "code",
   "execution_count": 15,
   "metadata": {},
   "outputs": [
    {
     "data": {
      "image/png": "[encoded data removed]",
      "text/plain": [
       "<Figure size 720x360 with 1 Axes>"
      ]
     },
     "metadata": {
      "needs_background": "light"
     },
     "output_type": "display_data"
    }
   ],
   "source": [
    "BD=fits.open(datafolder+'0042.BDFlux.fits')\n",
    "BDdata=BD[0].data\n",
    "BDdata.shape\n",
    "BDspec=BDdata[:,900]\n",
    "BDspec.shape\n",
    "figA,axA=plt.subplots(figsize=(10,5))\n",
    "\n",
    "axA.set_xlabel('Pixel Location')\n",
    "axA.set_ylabel('Counts')\n",
    "axA.set_title('BDSpec');\n",
    "axA.plot(np.arange(BDspec.shape[0]),BDspec,c='red');"
   ]
  },
  {
   "cell_type": "code",
   "execution_count": 7,
   "metadata": {},
   "outputs": [
    {
     "data": {
      "text/plain": [
       "<function ndarray.mean>"
      ]
     },
     "execution_count": 7,
     "metadata": {},
     "output_type": "execute_result"
    }
   ],
   "source": [
    "BDspec=BDdata[1100:1200,:].mean\n",
    "BDspec"
   ]
  },
  {
   "cell_type": "markdown",
   "metadata": {
    "pycharm": {
     "name": "#%% md\n"
    }
   },
   "source": [
    "Now we will read in the flux spectrum of our standard star which we obtained from the Hubble Space Telescope list of flux standards (https://archive.stsci.edu/hlsps/reference-atlases/cdbs/current_calspec/). However, we have to take care here: the flux data is not sampled at the same wavelength intervals as our data. So first we have to resample our data onto the coarsely binned flux spectrum, find the flux conversion factor, and then interpolate it back onto the wavelength scale for our data."
   ]
  },
  {
   "cell_type": "markdown",
   "metadata": {
    "pycharm": {
     "name": "#%% md\n"
    }
   },
   "source": [
    "First read in the flux spectrum from the hd93251_flux.dat file and then plot the spectrum. Label the x and y axis with the appropriate units. (Hint: remember we use cgs units)"
   ]
  },
  {
   "cell_type": "code",
   "execution_count": 8,
   "metadata": {
    "pycharm": {
     "name": "#%%\n"
    }
   },
   "outputs": [
    {
     "data": {
      "text/plain": [
       "[<matplotlib.lines.Line2D at 0x1ed485b0e10>]"
      ]
     },
     "execution_count": 8,
     "metadata": {},
     "output_type": "execute_result"
    },
    {
     "data": {
      "image/png": "[encoded data removed]",
      "text/plain": [
       "<Figure size 432x288 with 1 Axes>"
      ]
     },
     "metadata": {
      "needs_background": "light"
     },
     "output_type": "display_data"
    }
   ],
   "source": [
    "#Now read in flux standard data\n",
    "bd75 = Table.read('bd75d325.dat', format='ascii')\n",
    "w93 = bd75['col1']\n",
    "f93 = bd75['col2']\n",
    "\n",
    "plt.plot(w93,f93)\n",
    "\n",
    "#Put your plot code below, making sure to plot the full wavelength range."
   ]
  },
  {
   "cell_type": "markdown",
   "metadata": {
    "pycharm": {
     "name": "#%% md\n"
    }
   },
   "source": [
    "Note the full wavelength range of the flux spectrum and how it extends well beyond the wavelength bounds of our DIS spectrum from before. Now that we have both our observed standard spectrum (fb_data and fr_data from above) and our known flux spectrum (f93) we are ready to calculate the flux conversion factor. First thing we have to do is resample our observed spectrum onto the flux spectrum wavelength scale. We will use a package called SPECTRES to do this accurately:"
   ]
  },
  {
   "cell_type": "code",
   "execution_count": 9,
   "metadata": {
    "pycharm": {
     "name": "#%%\n"
    }
   },
   "outputs": [],
   "source": [
    "#First find all of the points in w93 that are greater than the minimum of our observed wavelength scale\n",
    "#and less than the maximum. We do this for both the red and blue chips.\n",
    "iib = [i for i in range(len(w93)) if w93[i] > float(np.amin(wb_data)) and w93[i] < float(np.amax(wb_data))]\n",
    "#iir = [i for i in range(len(w93)) if w93[i] > float(np.amin(wr_data) + 3.0) and w93[i] < float(np.amax(wr_data))]\n",
    "\n",
    "#Make new flux spectrum wave vectors for the range of wavelengths in the DIS data.\n",
    "w93b_rb = w93[iib]\n",
    "#w93r_rb = w93[iir]\n",
    "\n",
    "#Use SPECTRES to resample the data onto the flux spectrum wavelength scale.\n",
    "fb_data_rb = spectres(w93b_rb, wb_data, fb_data, fill=1)\n",
    "#fr_data_rb = spectres(w93r_rb, wr_data, fr_data, fill=1)\n",
    "\n",
    "#Then create the flux factor: divide the true flux spectrum by the observed spectrum\n",
    "ffacb = f93[iib] #/ fb_data_rb\n",
    "#ffacr = f93[iir] / fr_data_rb\n",
    "\n",
    "#Finally, interpolate the flux factor back onto our observed wavelength scale\n",
    "fintb = interp1d(w93b_rb, ffacb, kind='cubic', fill_value='extrapolate')\n",
    "#fintr = interp1d(w93r_rb, ffacr, kind='cubic', fill_value='extrapolate')\n",
    "ffacb_data = fintb(wb_data)\n",
    "#ffacr_data = fintr(wr_data)\n"
   ]
  },
  {
   "cell_type": "code",
   "execution_count": 10,
   "metadata": {},
   "outputs": [
    {
     "data": {
      "text/html": [
       "&lt;Column name=&apos;col2&apos; dtype=&apos;float64&apos; length=5104&gt;\n",
       "<table>\n",
       "<tr><td>7.343</td></tr>\n",
       "<tr><td>7.35</td></tr>\n",
       "<tr><td>7.364</td></tr>\n",
       "<tr><td>7.366</td></tr>\n",
       "<tr><td>7.362</td></tr>\n",
       "<tr><td>7.338</td></tr>\n",
       "<tr><td>7.312</td></tr>\n",
       "<tr><td>7.323</td></tr>\n",
       "<tr><td>7.324</td></tr>\n",
       "<tr><td>7.316</td></tr>\n",
       "<tr><td>7.29</td></tr>\n",
       "<tr><td>7.298</td></tr>\n",
       "<tr><td>...</td></tr>\n",
       "<tr><td>10.546</td></tr>\n",
       "<tr><td>10.547</td></tr>\n",
       "<tr><td>10.548</td></tr>\n",
       "<tr><td>10.549</td></tr>\n",
       "<tr><td>10.549</td></tr>\n",
       "<tr><td>10.55</td></tr>\n",
       "<tr><td>10.552</td></tr>\n",
       "<tr><td>10.551</td></tr>\n",
       "<tr><td>10.55</td></tr>\n",
       "<tr><td>10.547</td></tr>\n",
       "<tr><td>10.547</td></tr>\n",
       "<tr><td>10.547</td></tr>\n",
       "</table>"
      ],
      "text/plain": [
       "<Column name='col2' dtype='float64' length=5104>\n",
       " 7.343\n",
       "  7.35\n",
       " 7.364\n",
       " 7.366\n",
       " 7.362\n",
       " 7.338\n",
       " 7.312\n",
       " 7.323\n",
       " 7.324\n",
       " 7.316\n",
       "  7.29\n",
       " 7.298\n",
       "   ...\n",
       "10.546\n",
       "10.547\n",
       "10.548\n",
       "10.549\n",
       "10.549\n",
       " 10.55\n",
       "10.552\n",
       "10.551\n",
       " 10.55\n",
       "10.547\n",
       "10.547\n",
       "10.547"
      ]
     },
     "execution_count": 10,
     "metadata": {},
     "output_type": "execute_result"
    }
   ],
   "source": [
    "f93[iib]"
   ]
  },
  {
   "cell_type": "code",
   "execution_count": 11,
   "metadata": {},
   "outputs": [
    {
     "data": {
      "text/plain": [
       "array([ 7.343,  7.35 ,  7.364, ..., 10.547, 10.547, 10.547])"
      ]
     },
     "execution_count": 11,
     "metadata": {},
     "output_type": "execute_result"
    }
   ],
   "source": [
    "fb_data_rb"
   ]
  },
  {
   "cell_type": "markdown",
   "metadata": {
    "pycharm": {
     "name": "#%% md\n"
    }
   },
   "source": [
    "Now let's plot our flux spectrum and compare the scaled versions of the data to the true spectrum. \n",
    "\n",
    "**-Use the cell below, and the plot example from above, to plot the flux spectrum and then overplot the data scaled by the flux factor (i.e., multiply the data arrays by the flux factor arrays).**\n",
    "\n"
   ]
  },
  {
   "cell_type": "code",
   "execution_count": 12,
   "metadata": {
    "pycharm": {
     "name": "#%%\n"
    }
   },
   "outputs": [
    {
     "data": {
      "image/png": "[encoded data removed]",
      "text/plain": [
       "<Figure size 432x288 with 1 Axes>"
      ]
     },
     "metadata": {
      "needs_background": "light"
     },
     "output_type": "display_data"
    }
   ],
   "source": [
    "plt.plot(wb_data,ffacb_data);"
   ]
  },
  {
   "cell_type": "markdown",
   "metadata": {
    "pycharm": {
     "name": "#%% md\n"
    }
   },
   "source": [
    "Before we apply our flux factors to science objects, we want to smooth out any bumpiness so that we don't introduce artifacts into our object spectra. We can do this with a boxcar smoothing algorithm from astropy. Try messing around with the width of the smoothing kernel, kwid, to see how it affects the shape of the flux factor."
   ]
  },
  {
   "cell_type": "code",
   "execution_count": 13,
   "metadata": {
    "pycharm": {
     "name": "#%%\n"
    }
   },
   "outputs": [
    {
     "data": {
      "image/png": "[encoded data removed]",
      "text/plain": [
       "<Figure size 432x288 with 1 Axes>"
      ]
     },
     "metadata": {
      "needs_background": "light"
     },
     "output_type": "display_data"
    }
   ],
   "source": [
    "kwid = 101\n",
    "ffacb_smooth = convolve(ffacb_data, Gaussian1DKernel(kwid), boundary='extend')\n",
    "#ffacr_smooth = convolve(ffacr_data, Gaussian1DKernel(kwid), boundary='extend')\n",
    "\n",
    "fig2f, ax2f = plt.subplots()\n",
    "ax2f.plot(wb_data, ffacb_smooth, color='blue')\n",
    "#ax2f.plot(wr_data, ffacr_smooth, color='red')\n",
    "ax2f.set_ylim([0,2])\n",
    "ax2f.set_xlim([1000, 10000])\n",
    "ax2f.set_title('Flux factor smoothing')\n",
    "ax2f.set_xlabel('Wavelength ($\\mathregular{\\AA}$)');"
   ]
  },
  {
   "cell_type": "markdown",
   "metadata": {
    "pycharm": {
     "name": "#%% md\n"
    }
   },
   "source": [
    "## <center> Flux calibrating science data </center> ##"
   ]
  },
  {
   "cell_type": "markdown",
   "metadata": {
    "pycharm": {
     "name": "#%% md\n"
    }
   },
   "source": [
    "Now we have our flux calibration factors for objects observed at sec(z) = 1.3. We can apply these calibration arrays to our science objects in order to put our object spectra in flux units, while simultaneously getting rid of any curvature introduced by instrument sensitivity. Let's read in a few spectra of TOI2119 and see what this looks like.\n",
    "\n"
   ]
  },
  {
   "cell_type": "code",
   "execution_count": 14,
   "metadata": {
    "pycharm": {
     "name": "#%%\n"
    }
   },
   "outputs": [
    {
     "ename": "FileNotFoundError",
     "evalue": "[Errno 2] No such file or directory: 'apo_files/TOI2119.0010b_spec.dat'",
     "output_type": "error",
     "traceback": [
      "\u001b[1;31m---------------------------------------------------------------------------\u001b[0m",
      "\u001b[1;31mFileNotFoundError\u001b[0m                         Traceback (most recent call last)",
      "\u001b[1;32m<ipython-input-14-f624d8c1a346>\u001b[0m in \u001b[0;36m<module>\u001b[1;34m()\u001b[0m\n\u001b[0;32m      1\u001b[0m \u001b[1;31m#Read in a TOI2119 spectrum observed at airmass = 1.3\u001b[0m\u001b[1;33m\u001b[0m\u001b[1;33m\u001b[0m\u001b[0m\n\u001b[1;32m----> 2\u001b[1;33m \u001b[0mtoi_10_bdata\u001b[0m \u001b[1;33m=\u001b[0m \u001b[0mTable\u001b[0m\u001b[1;33m.\u001b[0m\u001b[0mread\u001b[0m\u001b[1;33m(\u001b[0m\u001b[0mdatafolder\u001b[0m \u001b[1;33m+\u001b[0m \u001b[1;34m'TOI2119.0010b_spec.dat'\u001b[0m\u001b[1;33m,\u001b[0m \u001b[0mformat\u001b[0m\u001b[1;33m=\u001b[0m\u001b[1;34m'ascii'\u001b[0m\u001b[1;33m)\u001b[0m\u001b[1;33m\u001b[0m\u001b[0m\n\u001b[0m\u001b[0;32m      3\u001b[0m \u001b[0mwb_toi_10\u001b[0m \u001b[1;33m=\u001b[0m \u001b[0mtoi_10_bdata\u001b[0m\u001b[1;33m[\u001b[0m\u001b[1;34m'Wave'\u001b[0m\u001b[1;33m]\u001b[0m\u001b[1;33m\u001b[0m\u001b[0m\n\u001b[0;32m      4\u001b[0m \u001b[0mfb_toi_10\u001b[0m \u001b[1;33m=\u001b[0m \u001b[0mtoi_10_bdata\u001b[0m\u001b[1;33m[\u001b[0m\u001b[1;34m'Counts'\u001b[0m\u001b[1;33m]\u001b[0m\u001b[1;33m\u001b[0m\u001b[0m\n\u001b[0;32m      5\u001b[0m \u001b[0mam_hold\u001b[0m \u001b[1;33m=\u001b[0m \u001b[0mtoi_10_bdata\u001b[0m\u001b[1;33m[\u001b[0m\u001b[1;34m'Airmass'\u001b[0m\u001b[1;33m]\u001b[0m\u001b[1;33m\u001b[0m\u001b[0m\n",
      "\u001b[1;32m~\\Anaconda3\\lib\\site-packages\\astropy\\table\\table.py\u001b[0m in \u001b[0;36mread\u001b[1;34m(cls, *args, **kwargs)\u001b[0m\n\u001b[0;32m   2531\u001b[0m         \u001b[0mpassed\u001b[0m \u001b[0mthrough\u001b[0m \u001b[0mto\u001b[0m \u001b[0mthe\u001b[0m \u001b[0munderlying\u001b[0m \u001b[0mdata\u001b[0m \u001b[0mreader\u001b[0m \u001b[1;33m(\u001b[0m\u001b[0me\u001b[0m\u001b[1;33m.\u001b[0m\u001b[0mg\u001b[0m\u001b[1;33m.\u001b[0m\u001b[0;31m \u001b[0m\u001b[0;31m`\u001b[0m\u001b[1;33m~\u001b[0m\u001b[0mastropy\u001b[0m\u001b[1;33m.\u001b[0m\u001b[0mio\u001b[0m\u001b[1;33m.\u001b[0m\u001b[0mascii\u001b[0m\u001b[1;33m.\u001b[0m\u001b[0mread\u001b[0m\u001b[0;31m`\u001b[0m\u001b[1;33m)\u001b[0m\u001b[1;33m.\u001b[0m\u001b[1;33m\u001b[0m\u001b[0m\n\u001b[0;32m   2532\u001b[0m         \"\"\"\n\u001b[1;32m-> 2533\u001b[1;33m         \u001b[0mout\u001b[0m \u001b[1;33m=\u001b[0m \u001b[0mio_registry\u001b[0m\u001b[1;33m.\u001b[0m\u001b[0mread\u001b[0m\u001b[1;33m(\u001b[0m\u001b[0mcls\u001b[0m\u001b[1;33m,\u001b[0m \u001b[1;33m*\u001b[0m\u001b[0margs\u001b[0m\u001b[1;33m,\u001b[0m \u001b[1;33m**\u001b[0m\u001b[0mkwargs\u001b[0m\u001b[1;33m)\u001b[0m\u001b[1;33m\u001b[0m\u001b[0m\n\u001b[0m\u001b[0;32m   2534\u001b[0m         \u001b[1;31m# For some readers (e.g., ascii.ecsv), the returned `out` class is not\u001b[0m\u001b[1;33m\u001b[0m\u001b[1;33m\u001b[0m\u001b[0m\n\u001b[0;32m   2535\u001b[0m         \u001b[1;31m# guaranteed to be the same as the desired output `cls`.  If so,\u001b[0m\u001b[1;33m\u001b[0m\u001b[1;33m\u001b[0m\u001b[0m\n",
      "\u001b[1;32m~\\Anaconda3\\lib\\site-packages\\astropy\\io\\registry.py\u001b[0m in \u001b[0;36mread\u001b[1;34m(cls, format, *args, **kwargs)\u001b[0m\n\u001b[0;32m    515\u001b[0m \u001b[1;33m\u001b[0m\u001b[0m\n\u001b[0;32m    516\u001b[0m         \u001b[0mreader\u001b[0m \u001b[1;33m=\u001b[0m \u001b[0mget_reader\u001b[0m\u001b[1;33m(\u001b[0m\u001b[0mformat\u001b[0m\u001b[1;33m,\u001b[0m \u001b[0mcls\u001b[0m\u001b[1;33m)\u001b[0m\u001b[1;33m\u001b[0m\u001b[0m\n\u001b[1;32m--> 517\u001b[1;33m         \u001b[0mdata\u001b[0m \u001b[1;33m=\u001b[0m \u001b[0mreader\u001b[0m\u001b[1;33m(\u001b[0m\u001b[1;33m*\u001b[0m\u001b[0margs\u001b[0m\u001b[1;33m,\u001b[0m \u001b[1;33m**\u001b[0m\u001b[0mkwargs\u001b[0m\u001b[1;33m)\u001b[0m\u001b[1;33m\u001b[0m\u001b[0m\n\u001b[0m\u001b[0;32m    518\u001b[0m \u001b[1;33m\u001b[0m\u001b[0m\n\u001b[0;32m    519\u001b[0m         \u001b[1;32mif\u001b[0m \u001b[1;32mnot\u001b[0m \u001b[0misinstance\u001b[0m\u001b[1;33m(\u001b[0m\u001b[0mdata\u001b[0m\u001b[1;33m,\u001b[0m \u001b[0mcls\u001b[0m\u001b[1;33m)\u001b[0m\u001b[1;33m:\u001b[0m\u001b[1;33m\u001b[0m\u001b[0m\n",
      "\u001b[1;32m~\\Anaconda3\\lib\\site-packages\\astropy\\io\\ascii\\connect.py\u001b[0m in \u001b[0;36mread_asciitable\u001b[1;34m(filename, **kwargs)\u001b[0m\n\u001b[0;32m     18\u001b[0m \u001b[1;32mdef\u001b[0m \u001b[0mread_asciitable\u001b[0m\u001b[1;33m(\u001b[0m\u001b[0mfilename\u001b[0m\u001b[1;33m,\u001b[0m \u001b[1;33m**\u001b[0m\u001b[0mkwargs\u001b[0m\u001b[1;33m)\u001b[0m\u001b[1;33m:\u001b[0m\u001b[1;33m\u001b[0m\u001b[0m\n\u001b[0;32m     19\u001b[0m     \u001b[1;32mfrom\u001b[0m \u001b[1;33m.\u001b[0m\u001b[0mui\u001b[0m \u001b[1;32mimport\u001b[0m \u001b[0mread\u001b[0m\u001b[1;33m\u001b[0m\u001b[0m\n\u001b[1;32m---> 20\u001b[1;33m     \u001b[1;32mreturn\u001b[0m \u001b[0mread\u001b[0m\u001b[1;33m(\u001b[0m\u001b[0mfilename\u001b[0m\u001b[1;33m,\u001b[0m \u001b[1;33m**\u001b[0m\u001b[0mkwargs\u001b[0m\u001b[1;33m)\u001b[0m\u001b[1;33m\u001b[0m\u001b[0m\n\u001b[0m\u001b[0;32m     21\u001b[0m \u001b[1;33m\u001b[0m\u001b[0m\n\u001b[0;32m     22\u001b[0m \u001b[1;33m\u001b[0m\u001b[0m\n",
      "\u001b[1;32m~\\Anaconda3\\lib\\site-packages\\astropy\\io\\ascii\\ui.py\u001b[0m in \u001b[0;36mread\u001b[1;34m(table, guess, **kwargs)\u001b[0m\n\u001b[0;32m    349\u001b[0m         \u001b[1;31m# through below to the non-guess way so that any problems result in a\u001b[0m\u001b[1;33m\u001b[0m\u001b[1;33m\u001b[0m\u001b[0m\n\u001b[0;32m    350\u001b[0m         \u001b[1;31m# more useful traceback.\u001b[0m\u001b[1;33m\u001b[0m\u001b[1;33m\u001b[0m\u001b[0m\n\u001b[1;32m--> 351\u001b[1;33m         \u001b[0mdat\u001b[0m \u001b[1;33m=\u001b[0m \u001b[0m_guess\u001b[0m\u001b[1;33m(\u001b[0m\u001b[0mtable\u001b[0m\u001b[1;33m,\u001b[0m \u001b[0mnew_kwargs\u001b[0m\u001b[1;33m,\u001b[0m \u001b[0mformat\u001b[0m\u001b[1;33m,\u001b[0m \u001b[0mfast_reader\u001b[0m\u001b[1;33m)\u001b[0m\u001b[1;33m\u001b[0m\u001b[0m\n\u001b[0m\u001b[0;32m    352\u001b[0m         \u001b[1;32mif\u001b[0m \u001b[0mdat\u001b[0m \u001b[1;32mis\u001b[0m \u001b[1;32mNone\u001b[0m\u001b[1;33m:\u001b[0m\u001b[1;33m\u001b[0m\u001b[0m\n\u001b[0;32m    353\u001b[0m             \u001b[0mguess\u001b[0m \u001b[1;33m=\u001b[0m \u001b[1;32mFalse\u001b[0m\u001b[1;33m\u001b[0m\u001b[0m\n",
      "\u001b[1;32m~\\Anaconda3\\lib\\site-packages\\astropy\\io\\ascii\\ui.py\u001b[0m in \u001b[0;36m_guess\u001b[1;34m(table, read_kwargs, format, fast_reader)\u001b[0m\n\u001b[0;32m    495\u001b[0m             \u001b[0mreader\u001b[0m \u001b[1;33m=\u001b[0m \u001b[0mget_reader\u001b[0m\u001b[1;33m(\u001b[0m\u001b[1;33m**\u001b[0m\u001b[0mguess_kwargs\u001b[0m\u001b[1;33m)\u001b[0m\u001b[1;33m\u001b[0m\u001b[0m\n\u001b[0;32m    496\u001b[0m             \u001b[0mreader\u001b[0m\u001b[1;33m.\u001b[0m\u001b[0mguessing\u001b[0m \u001b[1;33m=\u001b[0m \u001b[1;32mTrue\u001b[0m\u001b[1;33m\u001b[0m\u001b[0m\n\u001b[1;32m--> 497\u001b[1;33m             \u001b[0mdat\u001b[0m \u001b[1;33m=\u001b[0m \u001b[0mreader\u001b[0m\u001b[1;33m.\u001b[0m\u001b[0mread\u001b[0m\u001b[1;33m(\u001b[0m\u001b[0mtable\u001b[0m\u001b[1;33m)\u001b[0m\u001b[1;33m\u001b[0m\u001b[0m\n\u001b[0m\u001b[0;32m    498\u001b[0m             _read_trace.append({'kwargs': guess_kwargs,\n\u001b[0;32m    499\u001b[0m                                 \u001b[1;34m'Reader'\u001b[0m\u001b[1;33m:\u001b[0m \u001b[0mreader\u001b[0m\u001b[1;33m.\u001b[0m\u001b[0m__class__\u001b[0m\u001b[1;33m,\u001b[0m\u001b[1;33m\u001b[0m\u001b[0m\n",
      "\u001b[1;32m~\\Anaconda3\\lib\\site-packages\\astropy\\io\\ascii\\core.py\u001b[0m in \u001b[0;36mread\u001b[1;34m(self, table)\u001b[0m\n\u001b[0;32m   1144\u001b[0m \u001b[1;33m\u001b[0m\u001b[0m\n\u001b[0;32m   1145\u001b[0m         \u001b[1;31m# Get a list of the lines (rows) in the table\u001b[0m\u001b[1;33m\u001b[0m\u001b[1;33m\u001b[0m\u001b[0m\n\u001b[1;32m-> 1146\u001b[1;33m         \u001b[0mself\u001b[0m\u001b[1;33m.\u001b[0m\u001b[0mlines\u001b[0m \u001b[1;33m=\u001b[0m \u001b[0mself\u001b[0m\u001b[1;33m.\u001b[0m\u001b[0minputter\u001b[0m\u001b[1;33m.\u001b[0m\u001b[0mget_lines\u001b[0m\u001b[1;33m(\u001b[0m\u001b[0mtable\u001b[0m\u001b[1;33m)\u001b[0m\u001b[1;33m\u001b[0m\u001b[0m\n\u001b[0m\u001b[0;32m   1147\u001b[0m \u001b[1;33m\u001b[0m\u001b[0m\n\u001b[0;32m   1148\u001b[0m         \u001b[1;31m# Set self.data.data_lines to a slice of lines contain the data rows\u001b[0m\u001b[1;33m\u001b[0m\u001b[1;33m\u001b[0m\u001b[0m\n",
      "\u001b[1;32m~\\Anaconda3\\lib\\site-packages\\astropy\\io\\ascii\\core.py\u001b[0m in \u001b[0;36mget_lines\u001b[1;34m(self, table)\u001b[0m\n\u001b[0;32m    291\u001b[0m                     ('\\n' not in table + '' and '\\r' not in table + '')):\n\u001b[0;32m    292\u001b[0m                 with get_readable_fileobj(table,\n\u001b[1;32m--> 293\u001b[1;33m                                           encoding=self.encoding) as fileobj:\n\u001b[0m\u001b[0;32m    294\u001b[0m                     \u001b[0mtable\u001b[0m \u001b[1;33m=\u001b[0m \u001b[0mfileobj\u001b[0m\u001b[1;33m.\u001b[0m\u001b[0mread\u001b[0m\u001b[1;33m(\u001b[0m\u001b[1;33m)\u001b[0m\u001b[1;33m\u001b[0m\u001b[0m\n\u001b[0;32m    295\u001b[0m             \u001b[0mlines\u001b[0m \u001b[1;33m=\u001b[0m \u001b[0mtable\u001b[0m\u001b[1;33m.\u001b[0m\u001b[0msplitlines\u001b[0m\u001b[1;33m(\u001b[0m\u001b[1;33m)\u001b[0m\u001b[1;33m\u001b[0m\u001b[0m\n",
      "\u001b[1;32m~\\Anaconda3\\lib\\contextlib.py\u001b[0m in \u001b[0;36m__enter__\u001b[1;34m(self)\u001b[0m\n\u001b[0;32m    110\u001b[0m         \u001b[1;32mdel\u001b[0m \u001b[0mself\u001b[0m\u001b[1;33m.\u001b[0m\u001b[0margs\u001b[0m\u001b[1;33m,\u001b[0m \u001b[0mself\u001b[0m\u001b[1;33m.\u001b[0m\u001b[0mkwds\u001b[0m\u001b[1;33m,\u001b[0m \u001b[0mself\u001b[0m\u001b[1;33m.\u001b[0m\u001b[0mfunc\u001b[0m\u001b[1;33m\u001b[0m\u001b[0m\n\u001b[0;32m    111\u001b[0m         \u001b[1;32mtry\u001b[0m\u001b[1;33m:\u001b[0m\u001b[1;33m\u001b[0m\u001b[0m\n\u001b[1;32m--> 112\u001b[1;33m             \u001b[1;32mreturn\u001b[0m \u001b[0mnext\u001b[0m\u001b[1;33m(\u001b[0m\u001b[0mself\u001b[0m\u001b[1;33m.\u001b[0m\u001b[0mgen\u001b[0m\u001b[1;33m)\u001b[0m\u001b[1;33m\u001b[0m\u001b[0m\n\u001b[0m\u001b[0;32m    113\u001b[0m         \u001b[1;32mexcept\u001b[0m \u001b[0mStopIteration\u001b[0m\u001b[1;33m:\u001b[0m\u001b[1;33m\u001b[0m\u001b[0m\n\u001b[0;32m    114\u001b[0m             \u001b[1;32mraise\u001b[0m \u001b[0mRuntimeError\u001b[0m\u001b[1;33m(\u001b[0m\u001b[1;34m\"generator didn't yield\"\u001b[0m\u001b[1;33m)\u001b[0m \u001b[1;32mfrom\u001b[0m \u001b[1;32mNone\u001b[0m\u001b[1;33m\u001b[0m\u001b[0m\n",
      "\u001b[1;32m~\\Anaconda3\\lib\\site-packages\\astropy\\utils\\data.py\u001b[0m in \u001b[0;36mget_readable_fileobj\u001b[1;34m(name_or_obj, encoding, cache, show_progress, remote_timeout)\u001b[0m\n\u001b[0;32m    191\u001b[0m                 \u001b[0mname_or_obj\u001b[0m\u001b[1;33m,\u001b[0m \u001b[0mcache\u001b[0m\u001b[1;33m=\u001b[0m\u001b[0mcache\u001b[0m\u001b[1;33m,\u001b[0m \u001b[0mshow_progress\u001b[0m\u001b[1;33m=\u001b[0m\u001b[0mshow_progress\u001b[0m\u001b[1;33m,\u001b[0m\u001b[1;33m\u001b[0m\u001b[0m\n\u001b[0;32m    192\u001b[0m                 timeout=remote_timeout)\n\u001b[1;32m--> 193\u001b[1;33m         \u001b[0mfileobj\u001b[0m \u001b[1;33m=\u001b[0m \u001b[0mio\u001b[0m\u001b[1;33m.\u001b[0m\u001b[0mFileIO\u001b[0m\u001b[1;33m(\u001b[0m\u001b[0mname_or_obj\u001b[0m\u001b[1;33m,\u001b[0m \u001b[1;34m'r'\u001b[0m\u001b[1;33m)\u001b[0m\u001b[1;33m\u001b[0m\u001b[0m\n\u001b[0m\u001b[0;32m    194\u001b[0m         \u001b[1;32mif\u001b[0m \u001b[0mis_url\u001b[0m \u001b[1;32mand\u001b[0m \u001b[1;32mnot\u001b[0m \u001b[0mcache\u001b[0m\u001b[1;33m:\u001b[0m\u001b[1;33m\u001b[0m\u001b[0m\n\u001b[0;32m    195\u001b[0m             \u001b[0mdelete_fds\u001b[0m\u001b[1;33m.\u001b[0m\u001b[0mappend\u001b[0m\u001b[1;33m(\u001b[0m\u001b[0mfileobj\u001b[0m\u001b[1;33m)\u001b[0m\u001b[1;33m\u001b[0m\u001b[0m\n",
      "\u001b[1;31mFileNotFoundError\u001b[0m: [Errno 2] No such file or directory: 'apo_files/TOI2119.0010b_spec.dat'"
     ]
    }
   ],
   "source": [
    "#Read in a TOI2119 spectrum observed at airmass = 1.3\n",
    "toi_10_bdata = Table.read(datafolder + 'TOI2119.0010b_spec.dat', format='ascii')\n",
    "wb_toi_10 = toi_10_bdata['Wave']\n",
    "fb_toi_10 = toi_10_bdata['Counts']\n",
    "am_hold = toi_10_bdata['Airmass']\n",
    "am_toi_10 = am_data[0]\n",
    "texp_hold = toi_10_bdata['ExposureTime']\n",
    "texp_toi_10 = texp[0]\n",
    "toi_10_rdata = Table.read(datafolder + 'TOI2119.0010r_spec.dat', format='ascii')\n",
    "wr_toi_10 = toi_10_rdata['Wave']\n",
    "fr_toi_10 = toi_10_rdata['Counts']\n",
    "\n",
    "#Scale the spectra by the exposure time\n",
    "fb_toi_10 = fb_toi_10 / texp_toi_10\n",
    "fr_toi_10 = fr_toi_10 / texp_toi_10\n",
    "\n",
    "#Plot the raw data\n",
    "fig2f, ax2f = plt.subplots()\n",
    "ax2f.plot(wb_toi_10, fb_toi_10, color='blue')\n",
    "ax2f.plot(wr_toi_10, fr_toi_10, color='red')\n",
    "#ax2f.set_ylim([0,2e-11])\n",
    "ax2f.set_xlim([4000, 7300])\n",
    "ax2f.set_title('TOI2119 DIS data')\n",
    "ax2f.set_xlabel('Wavelength ($\\mathregular{\\AA}$)')\n",
    "ax2f.set_ylabel('Counts $\\mathregular{pixel^{-1}\\ s^{-1}}$')"
   ]
  },
  {
   "cell_type": "markdown",
   "metadata": {
    "pycharm": {
     "name": "#%% md\n"
    }
   },
   "source": [
    "Now that we have some object spectra in counts per second, let's multiply the data by our smoothed flux calibration factors and see what we get:"
   ]
  },
  {
   "cell_type": "code",
   "execution_count": null,
   "metadata": {
    "pycharm": {
     "name": "#%%\n"
    }
   },
   "outputs": [],
   "source": [
    "#Multiply TOI spectrum by flux factor\n",
    "fluxb_toi_10 = fb_toi_10 * ffacb_smooth\n",
    "fluxr_toi_10 = fr_toi_10 * ffacr_smooth\n",
    "\n",
    "#Plot the flux calibrated spectra\n",
    "fig2f, ax2f = plt.subplots()\n",
    "ax2f.plot(wb_toi_10, fluxb_toi_10, color='blue')\n",
    "ax2f.plot(wr_toi_10, fluxr_toi_10, color='red')\n",
    "ax2f.set_xlim([4000, 7300])\n",
    "ax2f.set_title('Flux calibrated TOI2119 DIS data')\n",
    "ax2f.set_xlabel('Wavelength ($\\mathregular{\\AA}$)')\n",
    "ax2f.set_ylabel('Flux density (erg $\\mathregular{cm^{-2}\\ s^{-1}\\ \\AA^{-1}}$)')"
   ]
  },
  {
   "cell_type": "markdown",
   "metadata": {
    "pycharm": {
     "name": "#%% md\n"
    }
   },
   "source": [
    "**Congratulations, you have just completed your first successful flux calibration of a spectrum!** Let's do one more thing to learn an important lesson about flux calibration: read in another TOI2119 spectrum that was taken at airmass of approximately 1.0 and compare it to the previous spectrum taken at 1.3 airmasses. "
   ]
  },
  {
   "cell_type": "code",
   "execution_count": null,
   "metadata": {
    "pycharm": {
     "name": "#%%\n"
    }
   },
   "outputs": [],
   "source": [
    "#Read in new TOI2119 spectrum at airmass=1.0\n",
    "toi_40_bdata = Table.read(datafolder + 'TOI2119.0040b_spec.dat', format='ascii')\n",
    "wb_toi_40 = toi_40_bdata['Wave']\n",
    "fb_toi_40 = toi_40_bdata['Counts']\n",
    "am_hold = toi_40_bdata['Airmass']\n",
    "am_toi_40 = am_data[0]\n",
    "texp_hold = toi_40_bdata['ExposureTime']\n",
    "texp_toi_40 = texp[0]\n",
    "toi_40_rdata = Table.read(datafolder + 'TOI2119.0040r_spec.dat', format='ascii')\n",
    "wr_toi_40 = toi_40_rdata['Wave']\n",
    "fr_toi_40 = toi_40_rdata['Counts']\n",
    "\n",
    "#Scale the new spectrum by the exposure time\n",
    "fb_toi_40 = fb_toi_40 / texp_toi_40\n",
    "fr_toi_40 = fr_toi_40 / texp_toi_40\n",
    "\n",
    "#Plot the raw data\n",
    "fig2f, ax2f = plt.subplots()\n",
    "ax2f.plot(wb_toi_10, fb_toi_10, color='blue')\n",
    "ax2f.plot(wr_toi_10, fr_toi_10, color='red')\n",
    "ax2f.plot(wb_toi_40, fb_toi_40, color='blueviolet')\n",
    "ax2f.plot(wr_toi_40, fr_toi_40, color='deeppink')\n",
    "ax2f.set_xlim([4000, 7300])\n",
    "ax2f.set_title('TOI2119 airmass comparison')\n",
    "ax2f.set_xlabel('Wavelength ($\\mathregular{\\AA}$)')\n",
    "ax2f.set_ylabel('Counts $\\mathregular{pixel^{-1}\\ s^{-1}}$')"
   ]
  },
  {
   "cell_type": "markdown",
   "metadata": {
    "pycharm": {
     "name": "#%% md\n"
    }
   },
   "source": [
    "That's all for now! If you have any questions about the process or need help flux calibrating your project data, please let us know so we can plan to meet and go over it.\n",
    "\n"
   ]
  },
  {
   "cell_type": "code",
   "execution_count": null,
   "metadata": {
    "pycharm": {
     "name": "#%%\n"
    }
   },
   "outputs": [],
   "source": []
  }
 ],
 "metadata": {
  "kernelspec": {
   "display_name": "Python 3",
   "language": "python",
   "name": "python3"
  },
  "language_info": {
   "codemirror_mode": {
    "name": "ipython",
    "version": 3
   },
   "file_extension": ".py",
   "mimetype": "text/x-python",
   "name": "python",
   "nbconvert_exporter": "python",
   "pygments_lexer": "ipython3",
   "version": "3.7.0"
  }
 },
 "nbformat": 4,
 "nbformat_minor": 5
}
